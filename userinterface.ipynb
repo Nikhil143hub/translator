{
 "cells": [
  {
   "cell_type": "markdown",
   "metadata": {},
   "source": [
    "### User Interface"
   ]
  },
  {
   "cell_type": "code",
   "execution_count": 3,
   "metadata": {},
   "outputs": [],
   "source": [
    "import tkinter as tk\n",
    "from tkinter import ttk\n",
    "\n",
    "# Create the main window\n",
    "root = tk.Tk()\n",
    "root.title(\"ttk Example\")\n",
    "root.geometry(\"300x200\")\n",
    "\n",
    "# Create a label\n",
    "label = ttk.Label(root, text=\"Hello, ttk!\")\n",
    "label.pack(pady=10)\n",
    "\n",
    "# Create an entry widget\n",
    "entry = ttk.Entry(root)\n",
    "entry.pack(pady=10)\n",
    "\n",
    "# Create a button\n",
    "def on_button_click():\n",
    "    label.config(text=f\"Hello, {entry.get()}!\")\n",
    "\n",
    "button = ttk.Button(root, text=\"Greet\", command=on_button_click)\n",
    "button.pack(pady=10)\n",
    "\n",
    "# Create a combobox\n",
    "options = [\"Option 1\", \"Option 2\", \"Option 3\"]\n",
    "combobox = ttk.Combobox(root, values=options)\n",
    "combobox.set(\"Choose an option\")\n",
    "combobox.pack(pady=10)\n",
    "\n",
    "# Start the main event loop\n",
    "root.mainloop()\n"
   ]
  },
  {
   "cell_type": "code",
   "execution_count": 1,
   "metadata": {},
   "outputs": [],
   "source": [
    "from tkinter import *\n",
    "from tkinter import ttk\n",
    "from googletrans import LANGUAGES, Translator\n",
    "\n",
    "window = Tk()\n",
    "window.geometry('800x500')\n",
    "window.config(bg='#85929E')\n",
    "window.title(\"Niks Translater\")\n",
    "\n",
    "def Translate():\n",
    "    t1 = Translator()\n",
    "    translated = t1.translate(text=input_text.get(1.0, END), src=s.get(), dest=s1.get())\n",
    "    output_text.delete(1.0, END)\n",
    "    output_text.insert(END, translated.text)\n",
    "\n",
    "Label(window, text='Language Translater', font='arial 20 bold').place(x=260, y= 20)\n",
    "Label(window, text='Source Language : ', ).place(x=50, y= 100)\n",
    "Label(window, text='Result : ', ).place(x=430, y= 100)\n",
    "\n",
    "# Language list gernation using googletrans\n",
    "lang_list = list(LANGUAGES.values())\n",
    "#print(lang_list)\n",
    "#81499\n",
    "\n",
    "s = ttk.Combobox(window, values=lang_list)\n",
    "s.set('Select Language')\n",
    "s.place(x=160, y= 100)\n",
    "\n",
    "s1 = ttk.Combobox(window, values=lang_list)\n",
    "s1.set('Select Language')\n",
    "s1.place(x=490, y= 100)\n",
    "\n",
    "input_text = Text(window, height=8, width=40)\n",
    "input_text.place(x=50, y=130)\n",
    "\n",
    "output_text = Text(window, height=8, width=40)\n",
    "output_text.place(x=430, y=130)\n",
    "\n",
    "Button(window, text='Tranlate', command=Translate).place(x=370, y=300)\n",
    "\n",
    "window.mainloop()"
   ]
  },
  {
   "cell_type": "code",
   "execution_count": 18,
   "metadata": {},
   "outputs": [
    {
     "name": "stdout",
     "output_type": "stream",
     "text": [
      "मला अजगर आवडतो\n"
     ]
    }
   ],
   "source": [
    "from googletrans import LANGUAGES, Translator\n",
    "t1 = Translator()\n",
    "output = t1.translate(text='I love python', src='en', dest='Marathi')\n",
    "print(output.text)\n",
    "\n",
    "\n",
    "# if not working try installing this\n",
    "## pip install googletrans==3.1.0a0"
   ]
  },
  {
   "cell_type": "code",
   "execution_count": null,
   "metadata": {},
   "outputs": [],
   "source": []
  }
 ],
 "metadata": {
  "kernelspec": {
   "display_name": "Python 3",
   "language": "python",
   "name": "python3"
  },
  "language_info": {
   "codemirror_mode": {
    "name": "ipython",
    "version": 3
   },
   "file_extension": ".py",
   "mimetype": "text/x-python",
   "name": "python",
   "nbconvert_exporter": "python",
   "pygments_lexer": "ipython3",
   "version": "3.12.3"
  }
 },
 "nbformat": 4,
 "nbformat_minor": 2
}
